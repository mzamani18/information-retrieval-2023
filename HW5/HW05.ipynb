{
 "cells": [
  {
   "cell_type": "markdown",
   "metadata": {},
   "source": [
    "# IR HW05 Solution\n"
   ]
  },
  {
   "cell_type": "markdown",
   "metadata": {},
   "source": [
    "### Impot Libraries\n"
   ]
  },
  {
   "cell_type": "code",
   "execution_count": 71,
   "metadata": {},
   "outputs": [],
   "source": [
    "import glob\n",
    "import nltk\n",
    "import string\n",
    "import numpy as np\n",
    "import math\n",
    "from gensim.models import Word2Vec\n",
    "from sklearn.decomposition import TruncatedSVD\n",
    "from sklearn import svm\n",
    "from sklearn.metrics import accuracy_score\n",
    "from sklearn.svm import SVC\n",
    "from sklearn.metrics import precision_recall_fscore_support\n",
    "import matplotlib.pyplot as plt\n",
    "import seaborn as sns\n",
    "import pandas as pd"
   ]
  },
  {
   "cell_type": "markdown",
   "metadata": {},
   "source": [
    "### Indivisual Document\n"
   ]
  },
  {
   "cell_type": "markdown",
   "metadata": {},
   "source": [
    "This is a data structure for representing and saving every single document. I will save the most important attributes of a document.\n"
   ]
  },
  {
   "cell_type": "code",
   "execution_count": 2,
   "metadata": {},
   "outputs": [],
   "source": [
    "class IndivisualDocument:\n",
    "\n",
    "    def __init__(self) -> None:\n",
    "        pass\n",
    "\n",
    "    def setContent(self, content: str or list) -> None:\n",
    "        self.content = content\n",
    "\n",
    "    def getContent(self) -> str or list:\n",
    "        return self.content\n",
    "\n",
    "    def setDocId(self, docId: int) -> None:\n",
    "        self.docId = docId\n",
    "\n",
    "    def getDocId(self) -> int:\n",
    "        return self.docId\n",
    "\n",
    "    def setLabel(self, label: bool) -> None:\n",
    "        self.label = label\n",
    "\n",
    "    def getlabel(self) -> bool:\n",
    "        return self.label\n",
    "\n",
    "    def setRate(self, rate: int) -> None:\n",
    "        self.rate = rate\n",
    "\n",
    "    def getRate(self) -> int:\n",
    "        return self.rate\n",
    "\n",
    "    def make(docId: int, content: str, label: bool, rate: int):\n",
    "        doc = IndivisualDocument()\n",
    "        doc.setDocId(docId)\n",
    "        doc.setContent(content)\n",
    "        doc.setLabel(label)\n",
    "        doc.setRate(rate)\n",
    "        return doc"
   ]
  },
  {
   "cell_type": "markdown",
   "metadata": {},
   "source": [
    "### Load input\n"
   ]
  },
  {
   "cell_type": "markdown",
   "metadata": {},
   "source": [
    "The `LoadDocuments` class is responsible for loading documents from the specified paths and organizing them into a collection.\n",
    "\n",
    "#### Attributes\n",
    "\n",
    "- **DOC_ID_MAPPER**: (dict) A dictionary mapping document IDs to their corresponding document objects.\n",
    "- **TRAIN_POS_PATH**: (str) Path to the positive training documents.\n",
    "- **TRAIN_NEG_PATH**: (str) Path to the negative training documents.\n",
    "- **TEST_POS_PATH**: (str) Path to the positive testing documents.\n",
    "- **TEST_NEG_PATH**: (str) Path to the negative testing documents.\n",
    "\n",
    "#### Methods\n",
    "\n",
    "`__init__(self)`\n",
    "\n",
    "Initializes a new instance of the `LoadDocuments` class.\n",
    "\n",
    "`load(self, mode=\"train\")`\n",
    "\n",
    "Loads documents based on the specified mode (\"train\" or \"test\").\n",
    "\n",
    "- **Parameters**:\n",
    "  - `mode` (str, optional): Specifies whether to load training or testing documents. Defaults to \"train\".\n",
    "\n",
    "`__loadPos(self, mode)`\n",
    "\n",
    "Loads positive documents based on the specified mode.\n",
    "\n",
    "- **Parameters**:\n",
    "  - `mode` (str): Specifies whether to load training or testing documents.\n",
    "\n",
    "`__loadNeg(self, mode)`\n",
    "\n",
    "Loads negative documents based on the specified mode.\n",
    "\n",
    "- **Parameters**:\n",
    "  - `mode` (str): Specifies whether to load training or testing documents.\n"
   ]
  },
  {
   "cell_type": "code",
   "execution_count": 3,
   "metadata": {},
   "outputs": [],
   "source": [
    "class LoadDocuments:\n",
    "\n",
    "    DOC_ID_MAPPER = {}\n",
    "\n",
    "    TRAIN_POS_PATH = \"./aclImdb/train/pos/*.txt\"\n",
    "    TRAIN_NEG_PATH = \"./aclImdb/train/neg/*.txt\"\n",
    "\n",
    "    TEST_POS_PATH = \"./aclImdb/test/pos/*.txt\"\n",
    "    TEST_NEG_PATH = \"./aclImdb/test/neg/*.txt\"\n",
    "\n",
    "    def __init__(self) -> None:\n",
    "        self.documentCollection = {}\n",
    "\n",
    "    def load(self, mode=\"train\") -> None:\n",
    "        self.__loadPos(mode)\n",
    "        self.__loadNeg(mode)\n",
    "\n",
    "    def __loadPos(self, mode) -> None:\n",
    "        if mode == \"train\":\n",
    "            documents = glob.glob(self.TRAIN_POS_PATH)\n",
    "        else:\n",
    "            documents = glob.glob(self.TEST_POS_PATH)\n",
    "\n",
    "        for documentPath in documents:\n",
    "            document = open(documentPath, \"r\")\n",
    "            docId, rate = documentPath.split(\"/\")[-1].split(\"_\")\n",
    "            self.documentCollection[int(docId)] = IndivisualDocument.make(\n",
    "                docId=int(docId),\n",
    "                content=document.read(),\n",
    "                label=True,\n",
    "                rate=int(rate[0])\n",
    "            )\n",
    "\n",
    "    def __loadNeg(self, mode) -> None:\n",
    "        if mode == \"train\":\n",
    "            documents = glob.glob(self.TRAIN_NEG_PATH)\n",
    "        else:\n",
    "            documents = glob.glob(self.TEST_NEG_PATH)\n",
    "        for documentPath in documents:\n",
    "            document = open(documentPath, \"r\")\n",
    "            docId, rate = documentPath.split(\"/\")[-1].split(\"_\")\n",
    "            self.documentCollection[int(docId) + 12500] = IndivisualDocument.make(\n",
    "                docId=int(docId) + 12500,\n",
    "                content=document.read(),\n",
    "                label=False,\n",
    "                rate=int(rate[0])\n",
    "            )"
   ]
  },
  {
   "cell_type": "markdown",
   "metadata": {},
   "source": [
    "### Document Preprocessing\n"
   ]
  },
  {
   "cell_type": "markdown",
   "metadata": {},
   "source": [
    "The `DocumentPreProcessor` class is responsible for preprocessing a collection of documents. It performs several text preprocessing steps to clean and normalize the text data.\n",
    "\n",
    "#### Attributes\n",
    "\n",
    "- **documentCollection**: (dict[IndivisualDocument]) A dictionary containing individual document objects.\n",
    "\n",
    "#### Methods\n",
    "\n",
    "`__init__(self, documentCollection: dict[IndivisualDocument])`\n",
    "\n",
    "Initializes a new instance of the `DocumentPreProcessor` class.\n",
    "\n",
    "- **Parameters**:\n",
    "  - `documentCollection` (dict[IndivisualDocument]): A dictionary containing individual document objects.\n",
    "\n",
    "`__convertToLower(self)`\n",
    "\n",
    "Converts the text content of each document to lowercase.\n",
    "\n",
    "`__tokenizer(self)`\n",
    "\n",
    "Tokenizes the text content of each document using a regular expression pattern.\n",
    "\n",
    "`__removePunctuations(self)`\n",
    "\n",
    "Removes punctuation marks from the text content of each document.\n",
    "\n",
    "`__removeStopWords(self)`\n",
    "\n",
    "Removes stopwords from the text content of each document using NLTK's English stopwords list.\n",
    "\n",
    "`__stemming(self)`\n",
    "\n",
    "Performs stemming on the text content of each document using the Porter stemming algorithm.\n",
    "\n",
    "`__lemmatizer(self)`\n",
    "\n",
    "Performs lemmatization on the text content of each document using NLTK's WordNet lemmatizer.\n",
    "\n",
    "`exec(self) -> dict[IndivisualDocument]`\n",
    "\n",
    "Executes the preprocessing steps on the document collection.\n"
   ]
  },
  {
   "cell_type": "code",
   "execution_count": 4,
   "metadata": {},
   "outputs": [],
   "source": [
    "class DocumentPreProcessor():\n",
    "    def __init__(self, documentCollection: dict[IndivisualDocument]) -> None:\n",
    "        self.documentCollection = documentCollection\n",
    "\n",
    "    def __convertToLower(self) -> None:\n",
    "        for document in self.documentCollection.values():\n",
    "            self.documentCollection[document.getDocId()].setContent(\n",
    "                document.getContent().lower())\n",
    "\n",
    "    def __tokenizer(self) -> None:\n",
    "        pattern = r'\\d{1,3}(?:,\\d{3})*(?:\\.\\d+)?|\\w+'\n",
    "        for document in self.documentCollection.values():\n",
    "            self.documentCollection[document.getDocId()].setContent(nltk.tokenize.regexp_tokenize(\n",
    "                document.getContent(), pattern))\n",
    "\n",
    "    def __removePunctuations(self) -> None:\n",
    "        for document in self.documentCollection.values():\n",
    "            content = []\n",
    "            for term in document.getContent():\n",
    "                content.append(\n",
    "                    \"\".join([i for i in term if i not in string.punctuation]))\n",
    "            self.documentCollection[document.getDocId()].setContent(content)\n",
    "\n",
    "    def __removeStopWords(self) -> None:\n",
    "        stopwords = nltk.corpus.stopwords.words('english')\n",
    "        for document in self.documentCollection.values():\n",
    "            self.documentCollection[document.getDocId()].setContent([\n",
    "                i for i in document.getContent() if i not in stopwords])\n",
    "\n",
    "    def __stemming(self) -> None:\n",
    "        porter_stemmer = nltk.stem.porter.PorterStemmer()\n",
    "        for document in self.documentCollection.values():\n",
    "            self.documentCollection[document.getDocId()].setContent([\n",
    "                porter_stemmer.stem(term) for term in document.getContent()])\n",
    "\n",
    "    def __lemmatizer(self) -> None:\n",
    "        wordnet_lemmatizer = nltk.stem.WordNetLemmatizer()\n",
    "        for document in self.documentCollection.values():\n",
    "            self.documentCollection[document.getDocId()].setContent([\n",
    "                wordnet_lemmatizer.lemmatize(term) for term in document.getContent()])\n",
    "\n",
    "    def exec(self) -> dict[IndivisualDocument]:\n",
    "        self.__convertToLower()\n",
    "        self.__tokenizer()\n",
    "        self.__removePunctuations()\n",
    "        self.__removeStopWords()\n",
    "        self.__stemming()\n",
    "        self.__lemmatizer()\n",
    "        # return self.documentCollection"
   ]
  },
  {
   "cell_type": "markdown",
   "metadata": {},
   "source": [
    "### Inverted Index\n"
   ]
  },
  {
   "cell_type": "markdown",
   "metadata": {},
   "source": [
    "The `InvertedIndex` class is responsible for building an inverted index from a collection of documents. An inverted index is a data structure that maps terms to the documents that contain them.\n",
    "\n",
    "#### Attributes\n",
    "\n",
    "- **documentCollection**: (dict[IndivisualDocument]) A dictionary containing individual document objects.\n",
    "- **invertedIndex**: (dict) A dictionary representing the inverted index, where terms are mapped to the documents that contain them along with their positions.\n",
    "- **vocabulary**: (list) A list containing unique terms in the document collection.\n",
    "\n",
    "#### Methods\n",
    "\n",
    "`__init__(self, documentCollection: dict[IndivisualDocument])`\n",
    "\n",
    "Initializes a new instance of the `InvertedIndex` class.\n",
    "\n",
    "- **Parameters**:\n",
    "  - `documentCollection` (dict[IndivisualDocument]): A dictionary containing individual document objects.\n",
    "\n",
    "`buildInvertedIndex(self)`\n",
    "\n",
    "Builds the inverted index from the document collection. For each term in each document, it maps the term to the document ID and its position(s) within the document.\n"
   ]
  },
  {
   "cell_type": "code",
   "execution_count": 5,
   "metadata": {},
   "outputs": [],
   "source": [
    "class InvertedIndex():\n",
    "    def __init__(self, documentCollection: dict[IndivisualDocument]) -> None:\n",
    "        self.documentCollection = documentCollection\n",
    "        self.invertedIndex = {}\n",
    "        self.vocabulary = []\n",
    "\n",
    "    def buildInvertedIndex(self) -> None:\n",
    "        for document in self.documentCollection.values():\n",
    "            for ind, term in enumerate(document.getContent()):\n",
    "                if term not in self.invertedIndex:\n",
    "                    self.invertedIndex[term] = {}\n",
    "                    self.vocabulary.append(term)\n",
    "\n",
    "                if (document.getDocId() not in self.invertedIndex[term]):\n",
    "                    self.invertedIndex[term][document.getDocId()] = []\n",
    "\n",
    "                self.invertedIndex[term][document.getDocId()].append(ind)"
   ]
  },
  {
   "cell_type": "markdown",
   "metadata": {},
   "source": [
    "### TF-IDF Vectorization:\n"
   ]
  },
  {
   "cell_type": "markdown",
   "metadata": {},
   "source": [
    "The `TFIDF` class is responsible for calculating and normalizing the TF-IDF (Term Frequency-Inverse Document Frequency) matrix based on an inverted index and a document collection.\n",
    "\n",
    "#### Attributes\n",
    "\n",
    "- **invertedIndex**: (dict) A dictionary representing the inverted index, mapping terms to the documents that contain them.\n",
    "- **documentCollection**: (dict[IndivisualDocument]) A dictionary containing individual document objects.\n",
    "- **tfidf**: (np.array) A 2D numpy array representing the TF-IDF matrix.\n",
    "\n",
    "#### Methods\n",
    "\n",
    "`__init__(self, invertedIndex: dict, documentCollection: dict[IndivisualDocument])`\n",
    "\n",
    "Initializes a new instance of the `TFIDF` class.\n",
    "\n",
    "- **Parameters**:\n",
    "  - `invertedIndex` (dict): A dictionary representing the inverted index.\n",
    "  - `documentCollection` (dict[IndivisualDocument]): A dictionary containing individual document objects.\n",
    "\n",
    "`tTFIDFBuilder(self) -> np.array`\n",
    "\n",
    "Calculates the TF-IDF matrix based on the inverted index and document collection.\n",
    "\n",
    "- **Returns**:\n",
    "  - `tfidf` (np.array): A 2D numpy array representing the TF-IDF matrix.\n",
    "\n",
    "`normalizeTFIDF(self) -> None`\n",
    "\n",
    "Normalizes the TF-IDF matrix to ensure that each document vector has unit length.\n"
   ]
  },
  {
   "cell_type": "code",
   "execution_count": 6,
   "metadata": {},
   "outputs": [],
   "source": [
    "class TFIDF:\n",
    "    def __init__(self, invertedIndex: dict, documentCollection: dict[IndivisualDocument]) -> None:\n",
    "        self.invertedIndex = invertedIndex\n",
    "        self.documentCollection = documentCollection\n",
    "        self.tfidf = self.tTFIDFBuilder()\n",
    "        self.normalizeTFIDF()\n",
    "\n",
    "    def tTFIDFBuilder(self) -> np.array:\n",
    "        tfidf = np.zeros(\n",
    "            (len(self.invertedIndex), len(self.documentCollection)))\n",
    "        docoumentCollectionLength = len(self.documentCollection)\n",
    "        ind = 0\n",
    "        for term, postingList in self.invertedIndex.items():\n",
    "            df = len(self.invertedIndex[term])\n",
    "            for docNo, positions in postingList.items():\n",
    "                tfidf[ind][int(docNo)] = len(positions) * \\\n",
    "                    math.log(docoumentCollectionLength / df)\n",
    "            ind += 1\n",
    "\n",
    "        return tfidf\n",
    "\n",
    "    def normalizeTFIDF(self) -> None:\n",
    "        for docInd in range(len(self.documentCollection)):\n",
    "            normOfDoc = np.linalg.norm(self.tfidf[:, docInd])\n",
    "            self.tfidf[:, docInd] /= normOfDoc"
   ]
  },
  {
   "cell_type": "code",
   "execution_count": 7,
   "metadata": {},
   "outputs": [],
   "source": [
    "loadTrainDocuments = LoadDocuments()\n",
    "loadTrainDocuments.load()"
   ]
  },
  {
   "cell_type": "code",
   "execution_count": 8,
   "metadata": {},
   "outputs": [],
   "source": [
    "processedTrainDocuments = DocumentPreProcessor(\n",
    "    loadTrainDocuments.documentCollection)\n",
    "processedTrainDocuments.exec()"
   ]
  },
  {
   "cell_type": "code",
   "execution_count": 9,
   "metadata": {},
   "outputs": [],
   "source": [
    "invertedIndex = InvertedIndex(processedTrainDocuments.documentCollection)\n",
    "invertedIndex.buildInvertedIndex()"
   ]
  },
  {
   "cell_type": "code",
   "execution_count": 10,
   "metadata": {},
   "outputs": [],
   "source": [
    "tFIDF = TFIDF(invertedIndex.invertedIndex,\n",
    "              processedTrainDocuments.documentCollection)"
   ]
  },
  {
   "cell_type": "markdown",
   "metadata": {},
   "source": [
    "### Evaluation Metrix\n"
   ]
  },
  {
   "cell_type": "markdown",
   "metadata": {},
   "source": [
    "$\\text{Accuracy} = \\frac{TP + TN}{TP + TN + FP + FN}$\n",
    "\n",
    "$\\text{Recall} = \\frac{TP}{TP + FN}$\n",
    "\n",
    "$\\text{Precision} = \\frac{TP}{TP + FP}$\n",
    "\n",
    "$\\text{F1 Score} = \\frac{2 \\times TP}{2 \\times TP + FN + FP}$\n"
   ]
  },
  {
   "cell_type": "code",
   "execution_count": 11,
   "metadata": {},
   "outputs": [],
   "source": [
    "class EvalationMetrics:\n",
    "    def __init__(self, TP: float, TN: float, FP: float, FN: float) -> None:\n",
    "        self.TP, self.TN, self.FP, self.FN = TP, TN, FP, FN\n",
    "\n",
    "    def accuracy(self) -> float:\n",
    "        return ((self.TP + self.TN) / (self.TP + self.TN + self.FN + self.FP))\n",
    "\n",
    "    def recall(self) -> float:\n",
    "        return (self.TP) / (self.TP + self.FN)\n",
    "\n",
    "    def precision(self) -> float:\n",
    "        return (self.TP) / (self.TP + self.FP)\n",
    "\n",
    "    def f1_score(self) -> float:\n",
    "        return (2 * self.TP) / (2*self.TP + self.FN + self.FP)"
   ]
  },
  {
   "cell_type": "markdown",
   "metadata": {},
   "source": [
    "### Naive Bayes Classification:\n"
   ]
  },
  {
   "cell_type": "markdown",
   "metadata": {},
   "source": [
    "The `NaiveBayes` class implements a simple Naive Bayes classifier for text classification tasks.\n",
    "\n",
    "#### Attributes\n",
    "\n",
    "- **vocabulary**: (list) A list containing unique terms in the document collection.\n",
    "- **vocabProbNeg**: (dict) A dictionary representing the conditional probabilities of terms given the negative class.\n",
    "- **vocabProbPos**: (dict) A dictionary representing the conditional probabilities of terms given the positive class.\n",
    "\n",
    "#### Methods\n",
    "\n",
    "`__init__(self, vocabulary: list)`\n",
    "\n",
    "Initializes a new instance of the `NaiveBayes` class.\n",
    "\n",
    "- **Parameters**:\n",
    "  - `vocabulary` (list): A list containing unique terms in the document collection.\n",
    "\n",
    "`fit(self, X_train_tfidf)`\n",
    "\n",
    "Fits the Naive Bayes classifier to the training data.\n",
    "\n",
    "- **Parameters**:\n",
    "  - `X_train_tfidf`: Term frequency-inverse document frequency (TF-IDF) matrix of the training data.\n",
    "\n",
    "`eval(self, processedTestDocuments: DocumentPreProcessor) -> (float, float, float, float)`\n",
    "\n",
    "Evaluates the Naive Bayes classifier on the test data and returns evaluation metrics.\n",
    "\n",
    "- **Parameters**:\n",
    "\n",
    "  - `processedTestDocuments` (DocumentPreProcessor): Preprocessed test documents.\n",
    "\n",
    "- **Returns**:\n",
    "  - `(accuracy, precision, recall, f1_score)`: Evaluation metrics.\n"
   ]
  },
  {
   "cell_type": "code",
   "execution_count": 12,
   "metadata": {},
   "outputs": [],
   "source": [
    "class NaiveBayes(EvalationMetrics):\n",
    "    def __init__(self, vocabulary: list) -> None:\n",
    "        self.vocabulary = vocabulary\n",
    "        self.vocabProbNeg = {term: 0 for term in self.vocabulary}\n",
    "        self.vocabProbPos = {term: 0 for term in self.vocabulary}\n",
    "\n",
    "    def fit(self, X_train_tfidf) -> None:\n",
    "        allTermsFrequency = 0\n",
    "        for ind, _ in enumerate(self.vocabulary):\n",
    "            allTermsFrequency += sum(X_train_tfidf[ind])\n",
    "        allTermsFrequency += len(self.vocabulary)\n",
    "\n",
    "        for ind, term in enumerate(self.vocabulary):\n",
    "            self.vocabProbPos[term] = (\n",
    "                (sum(X_train_tfidf[ind][:12500])) + 1) / allTermsFrequency\n",
    "\n",
    "        for ind, term in enumerate(self.vocabulary):\n",
    "            self.vocabProbNeg[term] = (\n",
    "                sum(X_train_tfidf[ind][12500:]) + 1) / allTermsFrequency\n",
    "\n",
    "    def eval(self, processedTestDocuments: DocumentPreProcessor) -> (float, float, float, float):\n",
    "        TP, TN, FP, FN = 0, 0, 0, 0\n",
    "        for document in processedTestDocuments.documentCollection.values():\n",
    "            p, n = 0, 0\n",
    "            for term in document.getContent():\n",
    "                if term in NaiveBayes.vocabProbPos:\n",
    "                    p += math.log(NaiveBayes.vocabProbPos[term])\n",
    "                if term in NaiveBayes.vocabProbNeg:\n",
    "                    n += math.log(NaiveBayes.vocabProbNeg[term])\n",
    "\n",
    "            if (document.getlabel() and p >= n):\n",
    "                TP += 1\n",
    "            elif (document.getlabel() and p < n):\n",
    "                FN += 1\n",
    "            elif (not document.getlabel() and n < p):\n",
    "                FP += 1\n",
    "            else:\n",
    "                TN += 1\n",
    "\n",
    "        super().__init__(TP, TN, FP, FN)\n",
    "        return self.accuracy(), self.precision(), self.recall(), self.f1_score()"
   ]
  },
  {
   "cell_type": "code",
   "execution_count": 13,
   "metadata": {},
   "outputs": [],
   "source": [
    "loadTestDocuments = LoadDocuments()\n",
    "loadTestDocuments.load(mode=\"test\")\n",
    "\n",
    "processedTestDocuments = DocumentPreProcessor(\n",
    "    loadTestDocuments.documentCollection)\n",
    "processedTestDocuments.exec()"
   ]
  },
  {
   "cell_type": "code",
   "execution_count": 14,
   "metadata": {},
   "outputs": [],
   "source": [
    "NaiveBayes = NaiveBayes(invertedIndex.vocabulary)\n",
    "NaiveBayes.fit(tFIDF.tfidf)\n",
    "acc, pre, rec, f1 = NaiveBayes.eval(processedTestDocuments)"
   ]
  },
  {
   "cell_type": "code",
   "execution_count": 16,
   "metadata": {},
   "outputs": [
    {
     "name": "stdout",
     "output_type": "stream",
     "text": [
      "accuracy  :  0.81784\n",
      "precision :  0.8991360257183042\n",
      "recall    :  0.716\n",
      "f1-score  :  0.7971853567293132\n"
     ]
    }
   ],
   "source": [
    "print(\"accuracy  : \", acc)\n",
    "print(\"precision : \", pre)\n",
    "print(\"recall    : \", rec)\n",
    "print(\"f1-score  : \", f1)"
   ]
  },
  {
   "cell_type": "markdown",
   "metadata": {},
   "source": [
    "### `Optional` : Word Embeddings and LSA with SVM Classification(Base On Previous Question)\n"
   ]
  },
  {
   "cell_type": "markdown",
   "metadata": {},
   "source": [
    "The `LSA_Word2Vec_SVM_Classifier` class combines Latent Semantic Analysis (LSA) with Word2Vec embeddings and Support Vector Machine (SVM) classification for document classification tasks.\n",
    "\n",
    "#### Attributes\n",
    "\n",
    "- **trainDocumentCollection**: A collection of training documents.\n",
    "- **testDocumentCollection**: A collection of testing documents.\n",
    "- **word2vec_model**: A Word2Vec model trained on the training data.\n",
    "- **svm_classifier**: An SVM classifier trained on the LSA-transformed Word2Vec document vectors.\n",
    "\n",
    "#### Methods\n",
    "\n",
    "`__init__(self, trainDocumentCollection, testDocumentCollection)`\n",
    "\n",
    "Initializes a new instance of the `LSA_Word2Vec_SVM_Classifier` class.\n",
    "\n",
    "- **Parameters**:\n",
    "  - `trainDocumentCollection`: A collection of training documents.\n",
    "  - `testDocumentCollection`: A collection of testing documents.\n",
    "\n",
    "`initWord2VecModel(self, vector_size=100, epochs=10)`\n",
    "\n",
    "Initializes and trains the Word2Vec model on the training data.\n",
    "\n",
    "- **Parameters**:\n",
    "  - `vector_size` (int, optional): The dimensionality of the Word2Vec embeddings. Defaults to 100.\n",
    "  - `epochs` (int, optional): The number of epochs for training the Word2Vec model. Defaults to 10.\n",
    "\n",
    "`compute_doc_vector(self, doc, model, num_features)`\n",
    "\n",
    "Computes the document vectors using Word2Vec embeddings.\n",
    "\n",
    "- **Parameters**:\n",
    "  - `doc` (list): The list of words in the document.\n",
    "  - `model`: The Word2Vec model.\n",
    "  - `num_features` (int): The dimensionality of the Word2Vec embeddings.\n",
    "\n",
    "`exec(self, svd_n=50, vector_size=100, epochs=10)`\n",
    "\n",
    "Executes the LSA_Word2Vec_SVM classifier. Trains the Word2Vec model, computes document vectors, applies LSA, and trains the SVM classifier.\n",
    "\n",
    "- **Parameters**:\n",
    "  - `svd_n` (int, optional): The number of components for Latent Semantic Analysis (LSA). Defaults to 50.\n",
    "  - `vector_size` (int, optional): The dimensionality of the Word2Vec embeddings. Defaults to 100.\n",
    "  - `epochs` (int, optional): The number of epochs for training the Word2Vec model. Defaults to 10.\n",
    "\n",
    "`eval(self)`\n",
    "\n",
    "Evaluates the performance of the classifier using accuracy, precision, recall, and F1 score metrics.\n",
    "\n",
    "- **Returns**:\n",
    "  - `(accuracy, precision, recall, f1_score)`: Evaluation metrics.\n"
   ]
  },
  {
   "cell_type": "code",
   "execution_count": 110,
   "metadata": {},
   "outputs": [],
   "source": [
    "class LSA_Word2Vec_SVM_Classifier:\n",
    "    def __init__(self, trainDocumentCollection, testDocumentCollection) -> None:\n",
    "        self.trainDocumentCollection = trainDocumentCollection\n",
    "        self.testDocumentCollection = testDocumentCollection\n",
    "\n",
    "    def getTrainData(self) -> list:\n",
    "        return [self.trainDocumentCollection[i].getContent() for i in range(len(self.trainDocumentCollection))]\n",
    "\n",
    "    def getTestData(self) -> list:\n",
    "        return [self.testDocumentCollection[i].getContent() for i in range(len(self.testDocumentCollection))]\n",
    "\n",
    "    def getTestLabels(self) -> list:\n",
    "        return [self.testDocumentCollection[ind].getlabel()\n",
    "                for ind in range(len(self.testDocumentCollection))]\n",
    "\n",
    "    def getTrianLabels(self) -> list:\n",
    "        return [self.trainDocumentCollection[ind].getlabel()\n",
    "                for ind in range(len(self.trainDocumentCollection))]\n",
    "\n",
    "    # Initialize Word2Vec model and train on training data\n",
    "    def initWord2VecModel(self, vector_size=100, epochs=10) -> None:\n",
    "        self.word2vec_model = Word2Vec(\n",
    "            vector_size=vector_size, window=5, min_count=1, workers=4)\n",
    "        self.word2vec_model.build_vocab(\n",
    "            self.getTrainData())\n",
    "        self.word2vec_model.train(\n",
    "            self.getTrainData(), total_examples=self.word2vec_model.corpus_count, epochs=epochs)\n",
    "\n",
    "    # Function to compute document vectors using Word2Vec embeddings\n",
    "    def compute_doc_vector(self, doc, model, num_features):\n",
    "        feature_vector = np.zeros((num_features,), dtype=\"float32\")\n",
    "        num_words = 0\n",
    "        for word in doc:\n",
    "            if word in model.wv:\n",
    "                num_words += 1\n",
    "                feature_vector = np.add(feature_vector, model.wv[word])\n",
    "        if num_words != 0:\n",
    "            feature_vector = np.divide(feature_vector, num_words)\n",
    "        return feature_vector\n",
    "\n",
    "    def exec(self, svd_n=50, vector_size=100, epochs=10):\n",
    "        self.initWord2VecModel(vector_size, epochs)\n",
    "\n",
    "        # Compute document vectors for training data\n",
    "        X_train_doc_vectors = np.array(\n",
    "            [self.compute_doc_vector(self.trainDocumentCollection[doc].getContent(), self.word2vec_model, vector_size) for doc in range(len(self.trainDocumentCollection))])\n",
    "\n",
    "        # Compute document vectors for testing data\n",
    "        X_test_doc_vectors = np.array(\n",
    "            [self.compute_doc_vector(self.testDocumentCollection[doc].getContent(), self.word2vec_model, vector_size) for doc in range(len(self.testDocumentCollection))])\n",
    "\n",
    "        # Apply Latent Semantic Analysis (LSA)\n",
    "        lsa = TruncatedSVD(n_components=svd_n, random_state=42)\n",
    "        self.X_train_lsa = lsa.fit_transform(X_train_doc_vectors)\n",
    "        self.X_test_lsa = lsa.transform(X_test_doc_vectors)\n",
    "\n",
    "        # Train SVM classifier\n",
    "        self.svm_classifier = SVC(kernel='linear')\n",
    "        self.svm_classifier.fit(self.X_train_lsa, self.getTrianLabels())\n",
    "\n",
    "        self.y_pred = self.svm_classifier.predict(self.X_test_lsa)\n",
    "\n",
    "    def eval(self):\n",
    "        accuracy = accuracy_score(self.getTestLabels(), self.y_pred)\n",
    "        precision, recall, f1_score, _ = precision_recall_fscore_support(\n",
    "            self.getTestLabels(), self.y_pred, average='binary')\n",
    "\n",
    "        return accuracy, precision, recall, f1_score"
   ]
  },
  {
   "cell_type": "code",
   "execution_count": 85,
   "metadata": {},
   "outputs": [
    {
     "name": "stdout",
     "output_type": "stream",
     "text": [
      "Accuracy: 0.84232\n",
      "Precision: 0.8423242415342823\n",
      "Recall: 0.84232\n",
      "F1 Score: 0.8423195115689189\n"
     ]
    }
   ],
   "source": [
    "LSA_Word2Vec_SVM_Cla = LSA_Word2Vec_SVM_Classifier(\n",
    "    processedTrainDocuments.documentCollection, processedTestDocuments.documentCollection)\n",
    "LSA_Word2Vec_SVM_Cla.exec(svd_n=50, vector_size=200, epochs=20)\n",
    "LSA_Word2Vec_SVM_Cla.eval()"
   ]
  },
  {
   "cell_type": "markdown",
   "metadata": {},
   "source": [
    "#### Find Best Params\n"
   ]
  },
  {
   "cell_type": "code",
   "execution_count": 94,
   "metadata": {},
   "outputs": [
    {
     "name": "stdout",
     "output_type": "stream",
     "text": [
      "0.85892 [50, 90, 400]\n"
     ]
    }
   ],
   "source": [
    "epochs = [20, 40, 50]\n",
    "svd_ns = [30, 50, 70, 80, 90]\n",
    "vector_sizes = [100, 200, 300, 400]\n",
    "\n",
    "params = []\n",
    "accuracies = []\n",
    "\n",
    "for epoch in epochs:\n",
    "    for svd_n in svd_ns:\n",
    "        for vector_size in vector_sizes:\n",
    "            LSA_Word2Vec_SVM_Cla = LSA_Word2Vec_SVM_Classifier(\n",
    "                processedTrainDocuments.documentCollection, processedTestDocuments.documentCollection)\n",
    "            LSA_Word2Vec_SVM_Cla.exec(\n",
    "                svd_n=svd_n, vector_size=vector_size, epochs=epoch)\n",
    "            acc, _, _, _ = LSA_Word2Vec_SVM_Cla.eval()\n",
    "            accuracies.append(acc)\n",
    "            params.append([epoch, svd_n, vector_size])\n",
    "\n",
    "maxAcc = 0\n",
    "best_params = []\n",
    "for ind, acc in enumerate(accuracies):\n",
    "    if acc > maxAcc:\n",
    "        maxAcc = acc\n",
    "        best_params = params[ind]\n",
    "\n",
    "print(maxAcc, best_params)"
   ]
  },
  {
   "cell_type": "markdown",
   "metadata": {},
   "source": [
    "### Visualize Results\n"
   ]
  },
  {
   "cell_type": "code",
   "execution_count": 99,
   "metadata": {},
   "outputs": [
    {
     "data": {
      "image/png": "[encoded data removed]",
      "text/plain": [
       "<Figure size 600x300 with 1 Axes>"
      ]
     },
     "metadata": {},
     "output_type": "display_data"
    },
    {
     "data": {
      "image/png": "[encoded data removed]",
      "text/plain": [
       "<Figure size 600x300 with 2 Axes>"
      ]
     },
     "metadata": {},
     "output_type": "display_data"
    },
    {
     "name": "stderr",
     "output_type": "stream",
     "text": [
      "/var/folders/hf/43w7b51j725973smp2rmsbkc0000gp/T/ipykernel_1943/2017589587.py:32: FutureWarning: \n",
      "\n",
      "Passing `palette` without assigning `hue` is deprecated and will be removed in v0.14.0. Assign the `x` variable to `hue` and set `legend=False` for the same effect.\n",
      "\n",
      "  sns.barplot(x=['Epochs', 'SVD_n', 'Vector_Size'],\n"
     ]
    },
    {
     "data": {
      "image/png": "[encoded data removed]",
      "text/plain": [
       "<Figure size 600x300 with 1 Axes>"
      ]
     },
     "metadata": {},
     "output_type": "display_data"
    }
   ],
   "source": [
    "df = pd.DataFrame({'Epochs': [p[0] for p in params],\n",
    "                   'SVD_n': [p[1] for p in params],\n",
    "                   'Vector_Size': [p[2] for p in params],\n",
    "                   'Accuracy': accuracies})\n",
    "\n",
    "# Line Plot for Accuracies vs. Parameters\n",
    "plt.figure(figsize=(6, 3))\n",
    "sns.lineplot(data=df, x='Epochs', y='Accuracy', hue='SVD_n', marker='o')\n",
    "plt.title('Accuracy vs. Epochs for different SVD_n values')\n",
    "plt.xlabel('Epochs')\n",
    "plt.ylabel('Accuracy')\n",
    "plt.legend(title='SVD_n')\n",
    "plt.show()\n",
    "\n",
    "# Heatmap for Grid Search Results\n",
    "pivot_table = df.pivot_table(\n",
    "    values='Accuracy', index='SVD_n', columns='Vector_Size')\n",
    "plt.figure(figsize=(6, 3))\n",
    "sns.heatmap(pivot_table, cmap='viridis', annot=True, fmt=\".3f\")\n",
    "plt.title('Accuracy Heatmap for different SVD_n and Vector_Size')\n",
    "plt.xlabel('Vector_Size')\n",
    "plt.ylabel('SVD_n')\n",
    "plt.show()\n",
    "\n",
    "# Bar Plot for Best Parameters\n",
    "plt.figure(figsize=(6, 3))\n",
    "sns.barplot(x=['Epochs', 'SVD_n', 'Vector_Size'],\n",
    "            y=best_params, palette='viridis')\n",
    "plt.title('Best Parameters')\n",
    "plt.ylabel('Value')\n",
    "plt.show()"
   ]
  },
  {
   "cell_type": "code",
   "execution_count": 105,
   "metadata": {},
   "outputs": [
    {
     "name": "stdout",
     "output_type": "stream",
     "text": [
      "accuracy  :  0.85264\n",
      "precision :  0.8558282208588958\n",
      "recall    :  0.84816\n",
      "f1-score  :  0.851976856316297\n"
     ]
    }
   ],
   "source": [
    "LSA_Word2Vec_SVM_Cla = LSA_Word2Vec_SVM_Classifier(\n",
    "    processedTrainDocuments.documentCollection, processedTestDocuments.documentCollection)\n",
    "LSA_Word2Vec_SVM_Cla.exec(svd_n=50, vector_size=400, epochs=90)\n",
    "acc, pre, rec, f1 = LSA_Word2Vec_SVM_Cla.eval()\n",
    "\n",
    "print(\"accuracy  : \", acc)\n",
    "print(\"precision : \", pre)\n",
    "print(\"recall    : \", rec)\n",
    "print(\"f1-score  : \", f1)"
   ]
  },
  {
   "cell_type": "markdown",
   "metadata": {},
   "source": [
    "### Word Embeddings with SVM Classification:\n"
   ]
  },
  {
   "cell_type": "markdown",
   "metadata": {},
   "source": [
    "The `SVM_Word2Vec_Classifier` class extends the `LSA_Word2Vec_SVM_Classifier` class by directly using the Word2Vec document vectors for training the SVM classifier.\n",
    "\n",
    "#### Methods\n",
    "\n",
    "`__init__(self, trainDocumentCollection, testDocumentCollection)`\n",
    "\n",
    "Initializes a new instance of the `SVM_Word2Vec_Classifier` class.\n",
    "\n",
    "- **Parameters**:\n",
    "  - `trainDocumentCollection`: A collection of training documents.\n",
    "  - `testDocumentCollection`: A collection of testing documents.\n",
    "\n",
    "`exec(self, vector_size=100, epochs=10)`\n",
    "\n",
    "Executes the SVM_Word2Vec classifier. Initializes and trains the Word2Vec model, computes document vectors, and trains the SVM classifier using the Word2Vec document vectors.\n",
    "\n",
    "- **Parameters**:\n",
    "  - `vector_size` (int, optional): The dimensionality of the Word2Vec embeddings. Defaults to 100.\n",
    "  - `epochs` (int, optional): The number of epochs for training the Word2Vec model. Defaults to 10.\n"
   ]
  },
  {
   "cell_type": "code",
   "execution_count": 111,
   "metadata": {},
   "outputs": [],
   "source": [
    "class SVM_Word2Vec_Classifier(LSA_Word2Vec_SVM_Classifier):\n",
    "    def __init__(self, trainDocumentCollection, testDocumentCollection) -> None:\n",
    "        super().__init__(trainDocumentCollection, testDocumentCollection)\n",
    "\n",
    "    def exec(self, vector_size=100, epochs=10):\n",
    "        self.initWord2VecModel(vector_size, epochs)\n",
    "\n",
    "        self.X_train_doc_vectors = np.array(\n",
    "            [self.compute_doc_vector(self.trainDocumentCollection[doc].getContent(), self.word2vec_model, vector_size) for doc in range(len(self.trainDocumentCollection))])\n",
    "\n",
    "        self.X_test_doc_vectors = np.array(\n",
    "            [self.compute_doc_vector(self.testDocumentCollection[doc].getContent(), self.word2vec_model, vector_size) for doc in range(len(self.testDocumentCollection))])\n",
    "\n",
    "        self.svm_classifier = SVC(kernel='linear')\n",
    "        self.svm_classifier.fit(\n",
    "            self.X_train_doc_vectors, self.getTrianLabels())\n",
    "\n",
    "        self.y_pred = self.svm_classifier.predict(self.X_test_doc_vectors)"
   ]
  },
  {
   "cell_type": "code",
   "execution_count": 112,
   "metadata": {},
   "outputs": [],
   "source": [
    "SVM_Word2Vec_Cla = SVM_Word2Vec_Classifier(\n",
    "    processedTrainDocuments.documentCollection, processedTestDocuments.documentCollection)\n",
    "SVM_Word2Vec_Cla.exec(vector_size=100, epochs=40)\n",
    "acc, pre, rec, f1 = SVM_Word2Vec_Cla.eval()"
   ]
  },
  {
   "cell_type": "code",
   "execution_count": 113,
   "metadata": {},
   "outputs": [
    {
     "name": "stdout",
     "output_type": "stream",
     "text": [
      "accuracy  :  0.84476\n",
      "precision :  0.846562123039807\n",
      "recall    :  0.84216\n",
      "f1-score  :  0.8443553238419892\n"
     ]
    }
   ],
   "source": [
    "print(\"accuracy  : \", acc)\n",
    "print(\"precision : \", pre)\n",
    "print(\"recall    : \", rec)\n",
    "print(\"f1-score  : \", f1)"
   ]
  },
  {
   "cell_type": "markdown",
   "metadata": {},
   "source": [
    "### LSA with SVM Classification:\n"
   ]
  },
  {
   "cell_type": "markdown",
   "metadata": {},
   "source": [
    "The `LSA_SVM_Classifier` class extends the `LSA_Word2Vec_SVM_Classifier` class by directly applying Latent Semantic Analysis (LSA) to TF-IDF vectors and training an SVM classifier on the LSA-transformed TF-IDF vectors.\n",
    "\n",
    "#### Methods\n",
    "\n",
    "`__init__(self, trainDocumentCollection, testDocumentCollection)`\n",
    "\n",
    "Initializes a new instance of the `LSA_SVM_Classifier` class.\n",
    "\n",
    "- **Parameters**:\n",
    "  - `trainDocumentCollection`: A collection of training documents.\n",
    "  - `testDocumentCollection`: A collection of testing documents.\n",
    "\n",
    "`exec(self, X_train_tfidf: TFIDF, X_test_tfidf: TFIDF, k_svd=100) -> None`\n",
    "\n",
    "Executes the LSA_SVM classifier. Applies Latent Semantic Analysis (LSA) to TF-IDF vectors, trains an SVM classifier on the LSA-transformed TF-IDF vectors, and predicts on the test set.\n",
    "\n",
    "- **Parameters**:\n",
    "  - `X_train_tfidf` (TFIDF): TFIDF object containing the TF-IDF matrix of the training data.\n",
    "  - `X_test_tfidf` (TFIDF): TFIDF object containing the TF-IDF matrix of the testing data.\n",
    "  - `k_svd` (int, optional): The number of components for Latent Semantic Analysis (LSA). Defaults to 100.\n"
   ]
  },
  {
   "cell_type": "code",
   "execution_count": 128,
   "metadata": {},
   "outputs": [],
   "source": [
    "class LSA_SVM_Classifier(LSA_Word2Vec_SVM_Classifier):\n",
    "\n",
    "    def __init__(self, trainDocumentCollection, testDocumentCollection) -> None:\n",
    "        super().__init__(trainDocumentCollection, testDocumentCollection)\n",
    "\n",
    "    def exec(self, X_train_tfidf: TFIDF, X_test_tfidf: TFIDF, k_svd=100) -> None:\n",
    "        # Step 1: Apply Latent Semantic Analysis (LSA) to TF-IDF vectors\n",
    "        # You can adjust the number of components\n",
    "        X_train = np.matmul(X_train_tfidf.tfidf.T, X_train_tfidf.tfidf)\n",
    "        X_test = np.matmul(X_test_tfidf.tfidf.T, X_test_tfidf.tfidf)\n",
    "        lsa = TruncatedSVD(n_components=k_svd, random_state=42)\n",
    "        X_train_lsa = lsa.fit_transform(X_train)\n",
    "        X_test_lsa = lsa.transform(X_test)\n",
    "\n",
    "        # Step 2: Train the SVM classifier on the LSA-transformed TF-IDF vectors\n",
    "        svm_classifier = SVC(kernel='linear')\n",
    "        svm_classifier.fit(X_train_lsa, self.getTrianLabels())\n",
    "\n",
    "        # Step 3: Predict on the test set\n",
    "        self.y_pred = svm_classifier.predict(X_test_lsa)"
   ]
  },
  {
   "cell_type": "code",
   "execution_count": 118,
   "metadata": {},
   "outputs": [],
   "source": [
    "TrainTFIDF = tFIDF"
   ]
  },
  {
   "cell_type": "code",
   "execution_count": 114,
   "metadata": {},
   "outputs": [],
   "source": [
    "TestInvertedIndex = InvertedIndex(processedTestDocuments.documentCollection)\n",
    "TestInvertedIndex.buildInvertedIndex()\n",
    "\n",
    "TestTFIDF = TFIDF(invertedIndex.invertedIndex,\n",
    "                  processedTrainDocuments.documentCollection)"
   ]
  },
  {
   "cell_type": "code",
   "execution_count": 130,
   "metadata": {},
   "outputs": [
    {
     "name": "stdout",
     "output_type": "stream",
     "text": [
      "accuracy  :  0.89568\n",
      "precision :  0.8848795648795649\n",
      "recall    :  0.91048\n",
      "f1-score  :  0.8974931020890817\n"
     ]
    }
   ],
   "source": [
    "LSA_SVM_Cla = LSA_SVM_Classifier(\n",
    "    processedTrainDocuments.documentCollection, processedTestDocuments.documentCollection)\n",
    "LSA_SVM_Cla.exec(TrainTFIDF, TestTFIDF)\n",
    "acc, pre, rec, f1 = LSA_SVM_Cla.eval()\n",
    "\n",
    "print(\"accuracy  : \", acc)\n",
    "print(\"precision : \", pre)\n",
    "print(\"recall    : \", rec)\n",
    "print(\"f1-score  : \", f1)"
   ]
  },
  {
   "cell_type": "markdown",
   "metadata": {},
   "source": [
    "## Final Report\n"
   ]
  },
  {
   "cell_type": "markdown",
   "metadata": {},
   "source": [
    "As you can see, I documented each part thoroughly and explained the functionality of every class. Additionally, I effectively visualized and reported the optimal parameters for the project. In this section, I will delve into the challenges encountered.\n",
    "\n",
    "One of the most challenging parts was using a different Word2Vec model for training and testing. As a result, the documents were represented disjointedly, leading to poor results.\n",
    "\n",
    "Another issue was with the LSA parameters. It's crucial to use the same SVD for both training and testing to maintain consistency. Having two different SVDs resulted in ineffective dimensionality reduction and poor performance due to the lack of relationship between them.\n",
    "\n",
    "The third challenge involved computing vector representations for documents. Initially, I didn't have a plan for words in the test set that were not present in the training set, leading to the creation of a separate Word2Vec model for testing. However, this approach led to the same issue mentioned earlier. When I decided to ignore words in the test set that were absent in the training set, a new issue arose: the need for normalization. I resolved this by storing the lengths of words present in the training documents and dividing the sum of vectors by this length.\n",
    "\n",
    "Another difficulty was selecting optimal parameters. Changing parameters significantly affected the results, underscoring the importance of careful parameter selection.\n",
    "\n",
    "Ultimately, employing LSA on TFIDF followed by SVM classification proved to be the most effective model.\n",
    "\n",
    "$ Author : Mohammad \\ Zamani$\n"
   ]
  },
  {
   "cell_type": "markdown",
   "metadata": {},
   "source": []
  }
 ],
 "metadata": {
  "kernelspec": {
   "display_name": "Python 3",
   "language": "python",
   "name": "python3"
  },
  "language_info": {
   "codemirror_mode": {
    "name": "ipython",
    "version": 3
   },
   "file_extension": ".py",
   "mimetype": "text/x-python",
   "name": "python",
   "nbconvert_exporter": "python",
   "pygments_lexer": "ipython3",
   "version": "3.9.6"
  }
 },
 "nbformat": 4,
 "nbformat_minor": 2
}
